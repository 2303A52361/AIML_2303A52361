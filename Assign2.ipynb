{
  "nbformat": 4,
  "nbformat_minor": 0,
  "metadata": {
    "colab": {
      "provenance": [],
      "authorship_tag": "ABX9TyOAbTOpmJzFspTP9Tkgzwj0",
      "include_colab_link": true
    },
    "kernelspec": {
      "name": "python3",
      "display_name": "Python 3"
    },
    "language_info": {
      "name": "python"
    }
  },
  "cells": [
    {
      "cell_type": "markdown",
      "metadata": {
        "id": "view-in-github",
        "colab_type": "text"
      },
      "source": [
        "<a href=\"https://colab.research.google.com/github/2303A52361/AIML_2303A52361/blob/main/Assign2.ipynb\" target=\"_parent\"><img src=\"https://colab.research.google.com/assets/colab-badge.svg\" alt=\"Open In Colab\"/></a>"
      ]
    },
    {
      "cell_type": "markdown",
      "source": [
        "Implement BFS Algorithm Using A Queue"
      ],
      "metadata": {
        "id": "NtE3_Vee-tYR"
      }
    },
    {
      "cell_type": "markdown",
      "source": [
        "Part 1 – Implement Breadth First Search Algorithm using a Queue\n",
        "1. Given a graph with adjacency list and a starting vertex and we have to traverse the\n",
        "graph.\n",
        "2. We will first print the value in the starting vertex,\n",
        "3. Continue to print the value of neighbors of the starting vertex and\n",
        "4. Next move on to the next level after completing the current level till all the vertices of\n",
        "the graph are printed.\n"
      ],
      "metadata": {
        "id": "6BGf8d7__I6K"
      }
    },
    {
      "cell_type": "code",
      "source": [
        "from queue import Queue\n",
        "graph={0:[1,3],1:[0,2,3],2:[1,4,5],3:[0,1,4],4:[2,3,5],5:[2,4]}\n",
        "print(\"BFS traversal of graph with source 0 is:\")\n",
        "bfs(graph,0)"
      ],
      "metadata": {
        "colab": {
          "base_uri": "https://localhost:8080/"
        },
        "id": "AeECtGqpA1m9",
        "outputId": "7343885e-2fb1-4ae4-d8a4-436a78f12a79"
      },
      "execution_count": 31,
      "outputs": [
        {
          "output_type": "stream",
          "name": "stdout",
          "text": [
            "BFS traversal of graph with source 0 is:\n",
            "0-->1-->3-->2-->4-->5-->"
          ]
        }
      ]
    },
    {
      "cell_type": "code",
      "source": [
        "def bfs(graph,source):\n",
        " Q = Queue()\n",
        " visited_vertices = set()\n",
        " Q.put(source)\n",
        " visited_vertices.update({0})\n",
        " while not Q.empty():\n",
        "   vertex = Q.get()\n",
        "   print(vertex, end=\"-->\")\n",
        "   for u in graph[vertex]:\n",
        "       if u not in visited_vertices:\n",
        "         Q.put(u)\n",
        "         visited_vertices.update({u})\n",
        "\n",
        "print(\"BFS traversal of graph with source 0 is:\")\n",
        "bfs(graph,0)"
      ],
      "metadata": {
        "colab": {
          "base_uri": "https://localhost:8080/"
        },
        "id": "VYR6pdhLCjuw",
        "outputId": "47bc46e1-ecb3-46d0-80dc-fb4034308eb3"
      },
      "execution_count": 32,
      "outputs": [
        {
          "output_type": "stream",
          "name": "stdout",
          "text": [
            "BFS traversal of graph with source 0 is:\n",
            "0-->1-->3-->2-->4-->5-->"
          ]
        }
      ]
    },
    {
      "cell_type": "markdown",
      "source": [
        "Part 2 – Implement Depth First Search Algorithm using a StacK\n",
        "\n",
        " Stack implementations steps to be followed:\n",
        "1. Start at the root node and push it onto the stack.\n",
        "2. Check for any adjacent nodes of the tree and select one node.\n",
        "3. Traverse the entire branch of the selected node and push all the nodes into the stack.\n",
        "4. Upon reaching the end of a branch (no more adjacent nodes) ie nth leaf node, move\n",
        "back by a single step and look for adjacent nodes of the n-1th node.\n",
        "5. If there are adjacent nodes for the n-1th node, traverse those branches and push nodes\n",
        "onto the stack."
      ],
      "metadata": {
        "id": "KPmU_S-X8p_R"
      }
    },
    {
      "cell_type": "code",
      "source": [
        "graph={\n",
        "    'A' : ['B', 'S'],\n",
        "    'B' : ['A'],\n",
        "    'C' : ['D', 'E', 'F', 'S'],\n",
        "    'D' : ['C'],\n",
        "    'E' : ['C', 'H'],\n",
        "    'F' : ['C', 'G'],\n",
        "    'G' : ['F', 'S'],\n",
        "    'H' : ['E', 'G'],\n",
        "    'S' : ['A', 'C', 'G']\n",
        "}\n",
        "print(graph)"
      ],
      "metadata": {
        "id": "I4oqE-g29g-L",
        "outputId": "394f43f4-4fd2-42b3-fa35-a8f023782103",
        "colab": {
          "base_uri": "https://localhost:8080/"
        }
      },
      "execution_count": 19,
      "outputs": [
        {
          "output_type": "stream",
          "name": "stdout",
          "text": [
            "{'A': ['B', 'S'], 'B': ['A'], 'C': ['D', 'E', 'F', 'S'], 'D': ['C'], 'E': ['C', 'H'], 'F': ['C', 'G'], 'G': ['F', 'S'], 'H': ['E', 'G'], 'S': ['A', 'C', 'G']}\n"
          ]
        }
      ]
    },
    {
      "cell_type": "code",
      "source": [
        "def dfs(graph, node, visited):\n",
        " if node not in visited:\n",
        "  visited.append(node)\n",
        "  for k in graph[node]:\n",
        "    dfs(graph, k, visited)\n",
        " return visited\n",
        "\n",
        "visited = dfs(graph, 'D', [])\n",
        "print(visited)"
      ],
      "metadata": {
        "id": "oXJFxknlDKYI",
        "outputId": "d21d7922-caef-4af3-f256-70692fccd445",
        "colab": {
          "base_uri": "https://localhost:8080/"
        }
      },
      "execution_count": 20,
      "outputs": [
        {
          "output_type": "stream",
          "name": "stdout",
          "text": [
            "['D', 'C', 'E', 'H', 'G', 'F', 'S', 'A', 'B']\n"
          ]
        }
      ]
    }
  ]
}